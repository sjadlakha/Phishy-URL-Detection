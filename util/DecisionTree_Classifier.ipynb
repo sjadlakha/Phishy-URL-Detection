{
 "cells": [
  {
   "cell_type": "code",
   "execution_count": 1,
   "metadata": {
    "collapsed": true
   },
   "outputs": [],
   "source": [
    "import pandas as pd"
   ]
  },
  {
   "cell_type": "markdown",
   "metadata": {},
   "source": [
    "## Reading Data"
   ]
  },
  {
   "cell_type": "code",
   "execution_count": 3,
   "metadata": {
    "collapsed": true
   },
   "outputs": [],
   "source": [
    "legitimate_urls = pd.read_csv(\"./DATA/legitimate-urls.csv\")\n",
    "phishing_urls = pd.read_csv(\"./DATA/phishing-urls.csv\")"
   ]
  },
  {
   "cell_type": "code",
   "execution_count": 5,
   "metadata": {},
   "outputs": [
    {
     "output_type": "execute_result",
     "data": {
      "text/plain": "                     Domain  Having_@_symbol  Having_IP  \\\n0  www.liquidgeneration.com                0          0   \n1       www.onlineanime.org                0          0   \n2       www.ceres.dti.ne.jp                0          0   \n3            www.galeon.com                0          0   \n4       www.fanworkrecs.com                0          0   \n5        www.animehouse.com                0          0   \n6            www2.117.ne.jp                0          0   \n7          archive.rhps.org                0          0   \n8    www.freecartoonsex.com                0          0   \n9           www.cutepet.org                0          0   \n\n                          Path  Prefix_suffix_separation Protocol  \\\n0                            /                         0     http   \n1                            /                         0     http   \n2  /~nekoi/senno/senfirst.html                         0     http   \n3                        /kmh/                         0     http   \n4                            /                         0     http   \n5                            /                         0     http   \n6        /~mb1996ax/enadc.html                         0     http   \n7     /fritters/yui/index.html                         0     http   \n8                            /                         0     http   \n9                            /                         0     http   \n\n   Redirection_//_symbol  Sub_domains  URL_Length  age_domain  dns_record  \\\n0                      0            0           0           0           0   \n1                      0            0           0           0           0   \n2                      0            1           0           1           0   \n3                      0            0           0           0           0   \n4                      0            0           0           1           1   \n5                      0            0           0           0           0   \n6                      0            1           0           1           0   \n7                      0            2           0           0           0   \n8                      0            0           0           0           0   \n9                      0            0           0           2           0   \n\n   domain_registration_length  http_tokens  label  statistical_report  \\\n0                           1            0      0                   0   \n1                           1            0      0                   1   \n2                           1            0      0                   0   \n3                           0            0      0                   0   \n4                           1            0      0                   1   \n5                           1            0      0                   1   \n6                           1            0      0                   0   \n7                           1            0      0                   0   \n8                           1            0      0                   0   \n9                           0            0      0                   0   \n\n   tiny_url  web_traffic  \n0         0            2  \n1         0            1  \n2         0            0  \n3         0            0  \n4         0            1  \n5         0            1  \n6         0            2  \n7         0            2  \n8         1            2  \n9         0            2  ",
      "text/html": "<div>\n<style scoped>\n    .dataframe tbody tr th:only-of-type {\n        vertical-align: middle;\n    }\n\n    .dataframe tbody tr th {\n        vertical-align: top;\n    }\n\n    .dataframe thead th {\n        text-align: right;\n    }\n</style>\n<table border=\"1\" class=\"dataframe\">\n  <thead>\n    <tr style=\"text-align: right;\">\n      <th></th>\n      <th>Domain</th>\n      <th>Having_@_symbol</th>\n      <th>Having_IP</th>\n      <th>Path</th>\n      <th>Prefix_suffix_separation</th>\n      <th>Protocol</th>\n      <th>Redirection_//_symbol</th>\n      <th>Sub_domains</th>\n      <th>URL_Length</th>\n      <th>age_domain</th>\n      <th>dns_record</th>\n      <th>domain_registration_length</th>\n      <th>http_tokens</th>\n      <th>label</th>\n      <th>statistical_report</th>\n      <th>tiny_url</th>\n      <th>web_traffic</th>\n    </tr>\n  </thead>\n  <tbody>\n    <tr>\n      <th>0</th>\n      <td>www.liquidgeneration.com</td>\n      <td>0</td>\n      <td>0</td>\n      <td>/</td>\n      <td>0</td>\n      <td>http</td>\n      <td>0</td>\n      <td>0</td>\n      <td>0</td>\n      <td>0</td>\n      <td>0</td>\n      <td>1</td>\n      <td>0</td>\n      <td>0</td>\n      <td>0</td>\n      <td>0</td>\n      <td>2</td>\n    </tr>\n    <tr>\n      <th>1</th>\n      <td>www.onlineanime.org</td>\n      <td>0</td>\n      <td>0</td>\n      <td>/</td>\n      <td>0</td>\n      <td>http</td>\n      <td>0</td>\n      <td>0</td>\n      <td>0</td>\n      <td>0</td>\n      <td>0</td>\n      <td>1</td>\n      <td>0</td>\n      <td>0</td>\n      <td>1</td>\n      <td>0</td>\n      <td>1</td>\n    </tr>\n    <tr>\n      <th>2</th>\n      <td>www.ceres.dti.ne.jp</td>\n      <td>0</td>\n      <td>0</td>\n      <td>/~nekoi/senno/senfirst.html</td>\n      <td>0</td>\n      <td>http</td>\n      <td>0</td>\n      <td>1</td>\n      <td>0</td>\n      <td>1</td>\n      <td>0</td>\n      <td>1</td>\n      <td>0</td>\n      <td>0</td>\n      <td>0</td>\n      <td>0</td>\n      <td>0</td>\n    </tr>\n    <tr>\n      <th>3</th>\n      <td>www.galeon.com</td>\n      <td>0</td>\n      <td>0</td>\n      <td>/kmh/</td>\n      <td>0</td>\n      <td>http</td>\n      <td>0</td>\n      <td>0</td>\n      <td>0</td>\n      <td>0</td>\n      <td>0</td>\n      <td>0</td>\n      <td>0</td>\n      <td>0</td>\n      <td>0</td>\n      <td>0</td>\n      <td>0</td>\n    </tr>\n    <tr>\n      <th>4</th>\n      <td>www.fanworkrecs.com</td>\n      <td>0</td>\n      <td>0</td>\n      <td>/</td>\n      <td>0</td>\n      <td>http</td>\n      <td>0</td>\n      <td>0</td>\n      <td>0</td>\n      <td>1</td>\n      <td>1</td>\n      <td>1</td>\n      <td>0</td>\n      <td>0</td>\n      <td>1</td>\n      <td>0</td>\n      <td>1</td>\n    </tr>\n    <tr>\n      <th>5</th>\n      <td>www.animehouse.com</td>\n      <td>0</td>\n      <td>0</td>\n      <td>/</td>\n      <td>0</td>\n      <td>http</td>\n      <td>0</td>\n      <td>0</td>\n      <td>0</td>\n      <td>0</td>\n      <td>0</td>\n      <td>1</td>\n      <td>0</td>\n      <td>0</td>\n      <td>1</td>\n      <td>0</td>\n      <td>1</td>\n    </tr>\n    <tr>\n      <th>6</th>\n      <td>www2.117.ne.jp</td>\n      <td>0</td>\n      <td>0</td>\n      <td>/~mb1996ax/enadc.html</td>\n      <td>0</td>\n      <td>http</td>\n      <td>0</td>\n      <td>1</td>\n      <td>0</td>\n      <td>1</td>\n      <td>0</td>\n      <td>1</td>\n      <td>0</td>\n      <td>0</td>\n      <td>0</td>\n      <td>0</td>\n      <td>2</td>\n    </tr>\n    <tr>\n      <th>7</th>\n      <td>archive.rhps.org</td>\n      <td>0</td>\n      <td>0</td>\n      <td>/fritters/yui/index.html</td>\n      <td>0</td>\n      <td>http</td>\n      <td>0</td>\n      <td>2</td>\n      <td>0</td>\n      <td>0</td>\n      <td>0</td>\n      <td>1</td>\n      <td>0</td>\n      <td>0</td>\n      <td>0</td>\n      <td>0</td>\n      <td>2</td>\n    </tr>\n    <tr>\n      <th>8</th>\n      <td>www.freecartoonsex.com</td>\n      <td>0</td>\n      <td>0</td>\n      <td>/</td>\n      <td>0</td>\n      <td>http</td>\n      <td>0</td>\n      <td>0</td>\n      <td>0</td>\n      <td>0</td>\n      <td>0</td>\n      <td>1</td>\n      <td>0</td>\n      <td>0</td>\n      <td>0</td>\n      <td>1</td>\n      <td>2</td>\n    </tr>\n    <tr>\n      <th>9</th>\n      <td>www.cutepet.org</td>\n      <td>0</td>\n      <td>0</td>\n      <td>/</td>\n      <td>0</td>\n      <td>http</td>\n      <td>0</td>\n      <td>0</td>\n      <td>0</td>\n      <td>2</td>\n      <td>0</td>\n      <td>0</td>\n      <td>0</td>\n      <td>0</td>\n      <td>0</td>\n      <td>0</td>\n      <td>2</td>\n    </tr>\n  </tbody>\n</table>\n</div>"
     },
     "metadata": {},
     "execution_count": 5
    }
   ],
   "source": [
    "legitimate_urls.head(10)"
   ]
  },
  {
   "cell_type": "code",
   "execution_count": 6,
   "metadata": {},
   "outputs": [
    {
     "output_type": "execute_result",
     "data": {
      "text/plain": "                                  Domain  Having_@_symbol  Having_IP  \\\n0                     asesoresvelfit.com                0          0   \n1  caixa.com.br.fgtsagendesaqueconta.com                0          0   \n2                      hissoulreason.com                0          0   \n3              unauthorizd.newebpage.com                0          0   \n4                         133.130.103.10                0          1   \n5                             dj00.co.vu                1          0   \n6                         133.130.103.10                0          1   \n7                    httpssicredi.esy.es                0          0   \n8                            gamesaty.ga                0          0   \n9                   luxuryupgradepro.com                0          0   \n\n                                              Path  Prefix_suffix_separation  \\\n0                           /media/datacredito.co/                         0   \n1                   /consulta8523211/principal.php                         0   \n2                               /js/homepage/home/                         0   \n3                                  /webapps/66fbf/                         0   \n4                                             /23/                         0   \n5                                            /css/                         0   \n6                                       /21/logar/                         0   \n7  /servico/sicredi/validarclientes/mobi/index.php                         0   \n8                             /wp-content///yh/en/                         0   \n9                              /ymailNew/ymailNew/                         0   \n\n  Protocol  Redirection_//_symbol  Sub_domains  URL_Length  age_domain  \\\n0     http                      0            0           0           0   \n1     http                      0            1           1           0   \n2     http                      0            0           0           0   \n3     http                      0            0           0           0   \n4     http                      0            2           0           1   \n5     http                      0            0           2           1   \n6     http                      0            2           0           1   \n7     http                      0            2           2           1   \n8     http                      1            0           2           1   \n9     http                      0            0           0           0   \n\n   dns_record  domain_registration_length  http_tokens  label  \\\n0           0                           1            0      1   \n1           0                           1            0      1   \n2           0                           1            0      1   \n3           0                           1            0      1   \n4           0                           1            0      1   \n5           1                           1            0      1   \n6           0                           1            0      1   \n7           1                           1            1      1   \n8           0                           1            0      1   \n9           0                           1            0      1   \n\n   statistical_report  tiny_url  web_traffic  \n0                   0         1            1  \n1                   1         0            1  \n2                   0         0            1  \n3                   1         0            1  \n4                   0         0            1  \n5                   1         0            0  \n6                   0         0            1  \n7                   1         0            1  \n8                   0         0            1  \n9                   0         0            1  ",
      "text/html": "<div>\n<style scoped>\n    .dataframe tbody tr th:only-of-type {\n        vertical-align: middle;\n    }\n\n    .dataframe tbody tr th {\n        vertical-align: top;\n    }\n\n    .dataframe thead th {\n        text-align: right;\n    }\n</style>\n<table border=\"1\" class=\"dataframe\">\n  <thead>\n    <tr style=\"text-align: right;\">\n      <th></th>\n      <th>Domain</th>\n      <th>Having_@_symbol</th>\n      <th>Having_IP</th>\n      <th>Path</th>\n      <th>Prefix_suffix_separation</th>\n      <th>Protocol</th>\n      <th>Redirection_//_symbol</th>\n      <th>Sub_domains</th>\n      <th>URL_Length</th>\n      <th>age_domain</th>\n      <th>dns_record</th>\n      <th>domain_registration_length</th>\n      <th>http_tokens</th>\n      <th>label</th>\n      <th>statistical_report</th>\n      <th>tiny_url</th>\n      <th>web_traffic</th>\n    </tr>\n  </thead>\n  <tbody>\n    <tr>\n      <th>0</th>\n      <td>asesoresvelfit.com</td>\n      <td>0</td>\n      <td>0</td>\n      <td>/media/datacredito.co/</td>\n      <td>0</td>\n      <td>http</td>\n      <td>0</td>\n      <td>0</td>\n      <td>0</td>\n      <td>0</td>\n      <td>0</td>\n      <td>1</td>\n      <td>0</td>\n      <td>1</td>\n      <td>0</td>\n      <td>1</td>\n      <td>1</td>\n    </tr>\n    <tr>\n      <th>1</th>\n      <td>caixa.com.br.fgtsagendesaqueconta.com</td>\n      <td>0</td>\n      <td>0</td>\n      <td>/consulta8523211/principal.php</td>\n      <td>0</td>\n      <td>http</td>\n      <td>0</td>\n      <td>1</td>\n      <td>1</td>\n      <td>0</td>\n      <td>0</td>\n      <td>1</td>\n      <td>0</td>\n      <td>1</td>\n      <td>1</td>\n      <td>0</td>\n      <td>1</td>\n    </tr>\n    <tr>\n      <th>2</th>\n      <td>hissoulreason.com</td>\n      <td>0</td>\n      <td>0</td>\n      <td>/js/homepage/home/</td>\n      <td>0</td>\n      <td>http</td>\n      <td>0</td>\n      <td>0</td>\n      <td>0</td>\n      <td>0</td>\n      <td>0</td>\n      <td>1</td>\n      <td>0</td>\n      <td>1</td>\n      <td>0</td>\n      <td>0</td>\n      <td>1</td>\n    </tr>\n    <tr>\n      <th>3</th>\n      <td>unauthorizd.newebpage.com</td>\n      <td>0</td>\n      <td>0</td>\n      <td>/webapps/66fbf/</td>\n      <td>0</td>\n      <td>http</td>\n      <td>0</td>\n      <td>0</td>\n      <td>0</td>\n      <td>0</td>\n      <td>0</td>\n      <td>1</td>\n      <td>0</td>\n      <td>1</td>\n      <td>1</td>\n      <td>0</td>\n      <td>1</td>\n    </tr>\n    <tr>\n      <th>4</th>\n      <td>133.130.103.10</td>\n      <td>0</td>\n      <td>1</td>\n      <td>/23/</td>\n      <td>0</td>\n      <td>http</td>\n      <td>0</td>\n      <td>2</td>\n      <td>0</td>\n      <td>1</td>\n      <td>0</td>\n      <td>1</td>\n      <td>0</td>\n      <td>1</td>\n      <td>0</td>\n      <td>0</td>\n      <td>1</td>\n    </tr>\n    <tr>\n      <th>5</th>\n      <td>dj00.co.vu</td>\n      <td>1</td>\n      <td>0</td>\n      <td>/css/</td>\n      <td>0</td>\n      <td>http</td>\n      <td>0</td>\n      <td>0</td>\n      <td>2</td>\n      <td>1</td>\n      <td>1</td>\n      <td>1</td>\n      <td>0</td>\n      <td>1</td>\n      <td>1</td>\n      <td>0</td>\n      <td>0</td>\n    </tr>\n    <tr>\n      <th>6</th>\n      <td>133.130.103.10</td>\n      <td>0</td>\n      <td>1</td>\n      <td>/21/logar/</td>\n      <td>0</td>\n      <td>http</td>\n      <td>0</td>\n      <td>2</td>\n      <td>0</td>\n      <td>1</td>\n      <td>0</td>\n      <td>1</td>\n      <td>0</td>\n      <td>1</td>\n      <td>0</td>\n      <td>0</td>\n      <td>1</td>\n    </tr>\n    <tr>\n      <th>7</th>\n      <td>httpssicredi.esy.es</td>\n      <td>0</td>\n      <td>0</td>\n      <td>/servico/sicredi/validarclientes/mobi/index.php</td>\n      <td>0</td>\n      <td>http</td>\n      <td>0</td>\n      <td>2</td>\n      <td>2</td>\n      <td>1</td>\n      <td>1</td>\n      <td>1</td>\n      <td>1</td>\n      <td>1</td>\n      <td>1</td>\n      <td>0</td>\n      <td>1</td>\n    </tr>\n    <tr>\n      <th>8</th>\n      <td>gamesaty.ga</td>\n      <td>0</td>\n      <td>0</td>\n      <td>/wp-content///yh/en/</td>\n      <td>0</td>\n      <td>http</td>\n      <td>1</td>\n      <td>0</td>\n      <td>2</td>\n      <td>1</td>\n      <td>0</td>\n      <td>1</td>\n      <td>0</td>\n      <td>1</td>\n      <td>0</td>\n      <td>0</td>\n      <td>1</td>\n    </tr>\n    <tr>\n      <th>9</th>\n      <td>luxuryupgradepro.com</td>\n      <td>0</td>\n      <td>0</td>\n      <td>/ymailNew/ymailNew/</td>\n      <td>0</td>\n      <td>http</td>\n      <td>0</td>\n      <td>0</td>\n      <td>0</td>\n      <td>0</td>\n      <td>0</td>\n      <td>1</td>\n      <td>0</td>\n      <td>1</td>\n      <td>0</td>\n      <td>0</td>\n      <td>1</td>\n    </tr>\n  </tbody>\n</table>\n</div>"
     },
     "metadata": {},
     "execution_count": 6
    }
   ],
   "source": [
    "phishing_urls.head(10)"
   ]
  },
  {
   "cell_type": "markdown",
   "metadata": {},
   "source": [
    "## Data PreProcessing\n",
    "#### Merging the two dataframes and shuffling them"
   ]
  },
  {
   "cell_type": "code",
   "execution_count": 7,
   "metadata": {
    "collapsed": true
   },
   "outputs": [],
   "source": [
    "urls = legitimate_urls.append(phishing_urls)\n"
   ]
  },
  {
   "cell_type": "code",
   "execution_count": 8,
   "metadata": {},
   "outputs": [
    {
     "output_type": "execute_result",
     "data": {
      "text/plain": "                     Domain  Having_@_symbol  Having_IP  \\\n0  www.liquidgeneration.com                0          0   \n1       www.onlineanime.org                0          0   \n2       www.ceres.dti.ne.jp                0          0   \n3            www.galeon.com                0          0   \n4       www.fanworkrecs.com                0          0   \n\n                          Path  Prefix_suffix_separation Protocol  \\\n0                            /                         0     http   \n1                            /                         0     http   \n2  /~nekoi/senno/senfirst.html                         0     http   \n3                        /kmh/                         0     http   \n4                            /                         0     http   \n\n   Redirection_//_symbol  Sub_domains  URL_Length  age_domain  dns_record  \\\n0                      0            0           0           0           0   \n1                      0            0           0           0           0   \n2                      0            1           0           1           0   \n3                      0            0           0           0           0   \n4                      0            0           0           1           1   \n\n   domain_registration_length  http_tokens  label  statistical_report  \\\n0                           1            0      0                   0   \n1                           1            0      0                   1   \n2                           1            0      0                   0   \n3                           0            0      0                   0   \n4                           1            0      0                   1   \n\n   tiny_url  web_traffic  \n0         0            2  \n1         0            1  \n2         0            0  \n3         0            0  \n4         0            1  ",
      "text/html": "<div>\n<style scoped>\n    .dataframe tbody tr th:only-of-type {\n        vertical-align: middle;\n    }\n\n    .dataframe tbody tr th {\n        vertical-align: top;\n    }\n\n    .dataframe thead th {\n        text-align: right;\n    }\n</style>\n<table border=\"1\" class=\"dataframe\">\n  <thead>\n    <tr style=\"text-align: right;\">\n      <th></th>\n      <th>Domain</th>\n      <th>Having_@_symbol</th>\n      <th>Having_IP</th>\n      <th>Path</th>\n      <th>Prefix_suffix_separation</th>\n      <th>Protocol</th>\n      <th>Redirection_//_symbol</th>\n      <th>Sub_domains</th>\n      <th>URL_Length</th>\n      <th>age_domain</th>\n      <th>dns_record</th>\n      <th>domain_registration_length</th>\n      <th>http_tokens</th>\n      <th>label</th>\n      <th>statistical_report</th>\n      <th>tiny_url</th>\n      <th>web_traffic</th>\n    </tr>\n  </thead>\n  <tbody>\n    <tr>\n      <th>0</th>\n      <td>www.liquidgeneration.com</td>\n      <td>0</td>\n      <td>0</td>\n      <td>/</td>\n      <td>0</td>\n      <td>http</td>\n      <td>0</td>\n      <td>0</td>\n      <td>0</td>\n      <td>0</td>\n      <td>0</td>\n      <td>1</td>\n      <td>0</td>\n      <td>0</td>\n      <td>0</td>\n      <td>0</td>\n      <td>2</td>\n    </tr>\n    <tr>\n      <th>1</th>\n      <td>www.onlineanime.org</td>\n      <td>0</td>\n      <td>0</td>\n      <td>/</td>\n      <td>0</td>\n      <td>http</td>\n      <td>0</td>\n      <td>0</td>\n      <td>0</td>\n      <td>0</td>\n      <td>0</td>\n      <td>1</td>\n      <td>0</td>\n      <td>0</td>\n      <td>1</td>\n      <td>0</td>\n      <td>1</td>\n    </tr>\n    <tr>\n      <th>2</th>\n      <td>www.ceres.dti.ne.jp</td>\n      <td>0</td>\n      <td>0</td>\n      <td>/~nekoi/senno/senfirst.html</td>\n      <td>0</td>\n      <td>http</td>\n      <td>0</td>\n      <td>1</td>\n      <td>0</td>\n      <td>1</td>\n      <td>0</td>\n      <td>1</td>\n      <td>0</td>\n      <td>0</td>\n      <td>0</td>\n      <td>0</td>\n      <td>0</td>\n    </tr>\n    <tr>\n      <th>3</th>\n      <td>www.galeon.com</td>\n      <td>0</td>\n      <td>0</td>\n      <td>/kmh/</td>\n      <td>0</td>\n      <td>http</td>\n      <td>0</td>\n      <td>0</td>\n      <td>0</td>\n      <td>0</td>\n      <td>0</td>\n      <td>0</td>\n      <td>0</td>\n      <td>0</td>\n      <td>0</td>\n      <td>0</td>\n      <td>0</td>\n    </tr>\n    <tr>\n      <th>4</th>\n      <td>www.fanworkrecs.com</td>\n      <td>0</td>\n      <td>0</td>\n      <td>/</td>\n      <td>0</td>\n      <td>http</td>\n      <td>0</td>\n      <td>0</td>\n      <td>0</td>\n      <td>1</td>\n      <td>1</td>\n      <td>1</td>\n      <td>0</td>\n      <td>0</td>\n      <td>1</td>\n      <td>0</td>\n      <td>1</td>\n    </tr>\n  </tbody>\n</table>\n</div>"
     },
     "metadata": {},
     "execution_count": 8
    }
   ],
   "source": [
    "urls.head(5)"
   ]
  },
  {
   "cell_type": "code",
   "execution_count": 9,
   "metadata": {},
   "outputs": [
    {
     "output_type": "execute_result",
     "data": {
      "text/plain": "Index(['Domain', 'Having_@_symbol', 'Having_IP', 'Path',\n       'Prefix_suffix_separation', 'Protocol', 'Redirection_//_symbol',\n       'Sub_domains', 'URL_Length', 'age_domain', 'dns_record',\n       'domain_registration_length', 'http_tokens', 'label',\n       'statistical_report', 'tiny_url', 'web_traffic'],\n      dtype='object')"
     },
     "metadata": {},
     "execution_count": 9
    }
   ],
   "source": [
    "urls.columns"
   ]
  },
  {
   "cell_type": "markdown",
   "metadata": {},
   "source": [
    "#### Removing Unnecessary columns that are if fed to the algorithm will result into errors"
   ]
  },
  {
   "cell_type": "code",
   "execution_count": 10,
   "metadata": {
    "collapsed": true
   },
   "outputs": [],
   "source": [
    "urls = urls.drop(urls.columns[[0,3,5]],axis=1)"
   ]
  },
  {
   "cell_type": "code",
   "execution_count": 11,
   "metadata": {},
   "outputs": [
    {
     "output_type": "execute_result",
     "data": {
      "text/plain": "   Having_@_symbol  Having_IP  Prefix_suffix_separation  \\\n0                0          0                         0   \n1                0          0                         0   \n2                0          0                         0   \n3                0          0                         0   \n4                0          0                         0   \n5                0          0                         0   \n6                0          0                         0   \n7                0          0                         0   \n8                0          0                         0   \n9                0          0                         0   \n\n   Redirection_//_symbol  Sub_domains  URL_Length  age_domain  dns_record  \\\n0                      0            0           0           0           0   \n1                      0            0           0           0           0   \n2                      0            1           0           1           0   \n3                      0            0           0           0           0   \n4                      0            0           0           1           1   \n5                      0            0           0           0           0   \n6                      0            1           0           1           0   \n7                      0            2           0           0           0   \n8                      0            0           0           0           0   \n9                      0            0           0           2           0   \n\n   domain_registration_length  http_tokens  label  statistical_report  \\\n0                           1            0      0                   0   \n1                           1            0      0                   1   \n2                           1            0      0                   0   \n3                           0            0      0                   0   \n4                           1            0      0                   1   \n5                           1            0      0                   1   \n6                           1            0      0                   0   \n7                           1            0      0                   0   \n8                           1            0      0                   0   \n9                           0            0      0                   0   \n\n   tiny_url  web_traffic  \n0         0            2  \n1         0            1  \n2         0            0  \n3         0            0  \n4         0            1  \n5         0            1  \n6         0            2  \n7         0            2  \n8         1            2  \n9         0            2  ",
      "text/html": "<div>\n<style scoped>\n    .dataframe tbody tr th:only-of-type {\n        vertical-align: middle;\n    }\n\n    .dataframe tbody tr th {\n        vertical-align: top;\n    }\n\n    .dataframe thead th {\n        text-align: right;\n    }\n</style>\n<table border=\"1\" class=\"dataframe\">\n  <thead>\n    <tr style=\"text-align: right;\">\n      <th></th>\n      <th>Having_@_symbol</th>\n      <th>Having_IP</th>\n      <th>Prefix_suffix_separation</th>\n      <th>Redirection_//_symbol</th>\n      <th>Sub_domains</th>\n      <th>URL_Length</th>\n      <th>age_domain</th>\n      <th>dns_record</th>\n      <th>domain_registration_length</th>\n      <th>http_tokens</th>\n      <th>label</th>\n      <th>statistical_report</th>\n      <th>tiny_url</th>\n      <th>web_traffic</th>\n    </tr>\n  </thead>\n  <tbody>\n    <tr>\n      <th>0</th>\n      <td>0</td>\n      <td>0</td>\n      <td>0</td>\n      <td>0</td>\n      <td>0</td>\n      <td>0</td>\n      <td>0</td>\n      <td>0</td>\n      <td>1</td>\n      <td>0</td>\n      <td>0</td>\n      <td>0</td>\n      <td>0</td>\n      <td>2</td>\n    </tr>\n    <tr>\n      <th>1</th>\n      <td>0</td>\n      <td>0</td>\n      <td>0</td>\n      <td>0</td>\n      <td>0</td>\n      <td>0</td>\n      <td>0</td>\n      <td>0</td>\n      <td>1</td>\n      <td>0</td>\n      <td>0</td>\n      <td>1</td>\n      <td>0</td>\n      <td>1</td>\n    </tr>\n    <tr>\n      <th>2</th>\n      <td>0</td>\n      <td>0</td>\n      <td>0</td>\n      <td>0</td>\n      <td>1</td>\n      <td>0</td>\n      <td>1</td>\n      <td>0</td>\n      <td>1</td>\n      <td>0</td>\n      <td>0</td>\n      <td>0</td>\n      <td>0</td>\n      <td>0</td>\n    </tr>\n    <tr>\n      <th>3</th>\n      <td>0</td>\n      <td>0</td>\n      <td>0</td>\n      <td>0</td>\n      <td>0</td>\n      <td>0</td>\n      <td>0</td>\n      <td>0</td>\n      <td>0</td>\n      <td>0</td>\n      <td>0</td>\n      <td>0</td>\n      <td>0</td>\n      <td>0</td>\n    </tr>\n    <tr>\n      <th>4</th>\n      <td>0</td>\n      <td>0</td>\n      <td>0</td>\n      <td>0</td>\n      <td>0</td>\n      <td>0</td>\n      <td>1</td>\n      <td>1</td>\n      <td>1</td>\n      <td>0</td>\n      <td>0</td>\n      <td>1</td>\n      <td>0</td>\n      <td>1</td>\n    </tr>\n    <tr>\n      <th>5</th>\n      <td>0</td>\n      <td>0</td>\n      <td>0</td>\n      <td>0</td>\n      <td>0</td>\n      <td>0</td>\n      <td>0</td>\n      <td>0</td>\n      <td>1</td>\n      <td>0</td>\n      <td>0</td>\n      <td>1</td>\n      <td>0</td>\n      <td>1</td>\n    </tr>\n    <tr>\n      <th>6</th>\n      <td>0</td>\n      <td>0</td>\n      <td>0</td>\n      <td>0</td>\n      <td>1</td>\n      <td>0</td>\n      <td>1</td>\n      <td>0</td>\n      <td>1</td>\n      <td>0</td>\n      <td>0</td>\n      <td>0</td>\n      <td>0</td>\n      <td>2</td>\n    </tr>\n    <tr>\n      <th>7</th>\n      <td>0</td>\n      <td>0</td>\n      <td>0</td>\n      <td>0</td>\n      <td>2</td>\n      <td>0</td>\n      <td>0</td>\n      <td>0</td>\n      <td>1</td>\n      <td>0</td>\n      <td>0</td>\n      <td>0</td>\n      <td>0</td>\n      <td>2</td>\n    </tr>\n    <tr>\n      <th>8</th>\n      <td>0</td>\n      <td>0</td>\n      <td>0</td>\n      <td>0</td>\n      <td>0</td>\n      <td>0</td>\n      <td>0</td>\n      <td>0</td>\n      <td>1</td>\n      <td>0</td>\n      <td>0</td>\n      <td>0</td>\n      <td>1</td>\n      <td>2</td>\n    </tr>\n    <tr>\n      <th>9</th>\n      <td>0</td>\n      <td>0</td>\n      <td>0</td>\n      <td>0</td>\n      <td>0</td>\n      <td>0</td>\n      <td>2</td>\n      <td>0</td>\n      <td>0</td>\n      <td>0</td>\n      <td>0</td>\n      <td>0</td>\n      <td>0</td>\n      <td>2</td>\n    </tr>\n  </tbody>\n</table>\n</div>"
     },
     "metadata": {},
     "execution_count": 11
    }
   ],
   "source": [
    "urls.head(10)"
   ]
  },
  {
   "cell_type": "markdown",
   "metadata": {},
   "source": [
    "#### Shuffling to avoid overfitting"
   ]
  },
  {
   "cell_type": "code",
   "execution_count": 12,
   "metadata": {
    "collapsed": true
   },
   "outputs": [],
   "source": [
    "# shuffling the rows in the dataset so that when splitting the train and test set are equally distributed\n",
    "urls = urls.sample(frac=1).reset_index(drop=True)"
   ]
  },
  {
   "cell_type": "markdown",
   "metadata": {},
   "source": [
    "#### Removing class variable from the dataset for training and testing purpose"
   ]
  },
  {
   "cell_type": "code",
   "execution_count": 13,
   "metadata": {},
   "outputs": [],
   "source": [
    "urls_without_labels = urls.drop('label',axis=1)\n",
    "urls_without_labels.columns\n",
    "labels = urls['label']\n"
   ]
  },
  {
   "cell_type": "code",
   "execution_count": 14,
   "metadata": {},
   "outputs": [
    {
     "output_type": "execute_result",
     "data": {
      "text/plain": "   Having_@_symbol  Having_IP  Prefix_suffix_separation  \\\n0                0          0                         1   \n1                0          0                         0   \n2                0          0                         0   \n3                0          0                         0   \n4                0          0                         0   \n5                1          0                         0   \n6                0          0                         0   \n7                0          0                         0   \n8                0          0                         0   \n9                0          0                         0   \n\n   Redirection_//_symbol  Sub_domains  URL_Length  age_domain  dns_record  \\\n0                      0            1           1           0           0   \n1                      0            1           0           0           0   \n2                      0            0           0           1           0   \n3                      0            0           0           1           0   \n4                      0            2           0           2           0   \n5                      0            2           2           1           1   \n6                      0            1           1           1           0   \n7                      0            2           2           1           1   \n8                      0            1           0           1           0   \n9                      0            2           0           1           0   \n\n   domain_registration_length  http_tokens  label  statistical_report  \\\n0                           1            0      1                   1   \n1                           0            0      0                   0   \n2                           1            0      0                   0   \n3                           1            0      0                   0   \n4                           0            0      0                   0   \n5                           1            0      1                   1   \n6                           1            0      0                   0   \n7                           1            0      1                   1   \n8                           1            0      1                   0   \n9                           1            0      0                   0   \n\n   tiny_url  web_traffic  \n0         0            2  \n1         0            1  \n2         0            0  \n3         0            0  \n4         0            2  \n5         0            1  \n6         0            0  \n7         0            1  \n8         0            1  \n9         0            0  ",
      "text/html": "<div>\n<style scoped>\n    .dataframe tbody tr th:only-of-type {\n        vertical-align: middle;\n    }\n\n    .dataframe tbody tr th {\n        vertical-align: top;\n    }\n\n    .dataframe thead th {\n        text-align: right;\n    }\n</style>\n<table border=\"1\" class=\"dataframe\">\n  <thead>\n    <tr style=\"text-align: right;\">\n      <th></th>\n      <th>Having_@_symbol</th>\n      <th>Having_IP</th>\n      <th>Prefix_suffix_separation</th>\n      <th>Redirection_//_symbol</th>\n      <th>Sub_domains</th>\n      <th>URL_Length</th>\n      <th>age_domain</th>\n      <th>dns_record</th>\n      <th>domain_registration_length</th>\n      <th>http_tokens</th>\n      <th>label</th>\n      <th>statistical_report</th>\n      <th>tiny_url</th>\n      <th>web_traffic</th>\n    </tr>\n  </thead>\n  <tbody>\n    <tr>\n      <th>0</th>\n      <td>0</td>\n      <td>0</td>\n      <td>1</td>\n      <td>0</td>\n      <td>1</td>\n      <td>1</td>\n      <td>0</td>\n      <td>0</td>\n      <td>1</td>\n      <td>0</td>\n      <td>1</td>\n      <td>1</td>\n      <td>0</td>\n      <td>2</td>\n    </tr>\n    <tr>\n      <th>1</th>\n      <td>0</td>\n      <td>0</td>\n      <td>0</td>\n      <td>0</td>\n      <td>1</td>\n      <td>0</td>\n      <td>0</td>\n      <td>0</td>\n      <td>0</td>\n      <td>0</td>\n      <td>0</td>\n      <td>0</td>\n      <td>0</td>\n      <td>1</td>\n    </tr>\n    <tr>\n      <th>2</th>\n      <td>0</td>\n      <td>0</td>\n      <td>0</td>\n      <td>0</td>\n      <td>0</td>\n      <td>0</td>\n      <td>1</td>\n      <td>0</td>\n      <td>1</td>\n      <td>0</td>\n      <td>0</td>\n      <td>0</td>\n      <td>0</td>\n      <td>0</td>\n    </tr>\n    <tr>\n      <th>3</th>\n      <td>0</td>\n      <td>0</td>\n      <td>0</td>\n      <td>0</td>\n      <td>0</td>\n      <td>0</td>\n      <td>1</td>\n      <td>0</td>\n      <td>1</td>\n      <td>0</td>\n      <td>0</td>\n      <td>0</td>\n      <td>0</td>\n      <td>0</td>\n    </tr>\n    <tr>\n      <th>4</th>\n      <td>0</td>\n      <td>0</td>\n      <td>0</td>\n      <td>0</td>\n      <td>2</td>\n      <td>0</td>\n      <td>2</td>\n      <td>0</td>\n      <td>0</td>\n      <td>0</td>\n      <td>0</td>\n      <td>0</td>\n      <td>0</td>\n      <td>2</td>\n    </tr>\n    <tr>\n      <th>5</th>\n      <td>1</td>\n      <td>0</td>\n      <td>0</td>\n      <td>0</td>\n      <td>2</td>\n      <td>2</td>\n      <td>1</td>\n      <td>1</td>\n      <td>1</td>\n      <td>0</td>\n      <td>1</td>\n      <td>1</td>\n      <td>0</td>\n      <td>1</td>\n    </tr>\n    <tr>\n      <th>6</th>\n      <td>0</td>\n      <td>0</td>\n      <td>0</td>\n      <td>0</td>\n      <td>1</td>\n      <td>1</td>\n      <td>1</td>\n      <td>0</td>\n      <td>1</td>\n      <td>0</td>\n      <td>0</td>\n      <td>0</td>\n      <td>0</td>\n      <td>0</td>\n    </tr>\n    <tr>\n      <th>7</th>\n      <td>0</td>\n      <td>0</td>\n      <td>0</td>\n      <td>0</td>\n      <td>2</td>\n      <td>2</td>\n      <td>1</td>\n      <td>1</td>\n      <td>1</td>\n      <td>0</td>\n      <td>1</td>\n      <td>1</td>\n      <td>0</td>\n      <td>1</td>\n    </tr>\n    <tr>\n      <th>8</th>\n      <td>0</td>\n      <td>0</td>\n      <td>0</td>\n      <td>0</td>\n      <td>1</td>\n      <td>0</td>\n      <td>1</td>\n      <td>0</td>\n      <td>1</td>\n      <td>0</td>\n      <td>1</td>\n      <td>0</td>\n      <td>0</td>\n      <td>1</td>\n    </tr>\n    <tr>\n      <th>9</th>\n      <td>0</td>\n      <td>0</td>\n      <td>0</td>\n      <td>0</td>\n      <td>2</td>\n      <td>0</td>\n      <td>1</td>\n      <td>0</td>\n      <td>1</td>\n      <td>0</td>\n      <td>0</td>\n      <td>0</td>\n      <td>0</td>\n      <td>0</td>\n    </tr>\n  </tbody>\n</table>\n</div>"
     },
     "metadata": {},
     "execution_count": 14
    }
   ],
   "source": [
    "urls.head(10)"
   ]
  },
  {
   "cell_type": "markdown",
   "metadata": {},
   "source": [
    "#### Splitting the data into train data and test data using sklearn inbuilt modules"
   ]
  },
  {
   "cell_type": "code",
   "execution_count": 15,
   "metadata": {},
   "outputs": [],
   "source": [
    "from sklearn.model_selection import train_test_split\n",
    "data_train, data_test, labels_train, labels_test = train_test_split(urls_without_labels, labels, test_size=0.20, random_state=100)"
   ]
  },
  {
   "cell_type": "code",
   "execution_count": 16,
   "metadata": {
    "tags": []
   },
   "outputs": [
    {
     "output_type": "stream",
     "name": "stdout",
     "text": "1612 403 1612 403\n"
    }
   ],
   "source": [
    "print(len(data_train),len(data_test),len(labels_train),len(labels_test))"
   ]
  },
  {
   "cell_type": "code",
   "execution_count": 19,
   "metadata": {},
   "outputs": [
    {
     "output_type": "execute_result",
     "data": {
      "text/plain": "0    819\n1    793\nName: label, dtype: int64"
     },
     "metadata": {},
     "execution_count": 19
    }
   ],
   "source": [
    "labels_train.value_counts()"
   ]
  },
  {
   "cell_type": "code",
   "execution_count": 20,
   "metadata": {},
   "outputs": [
    {
     "output_type": "execute_result",
     "data": {
      "text/plain": "1    205\n0    198\nName: label, dtype: int64"
     },
     "metadata": {},
     "execution_count": 20
    }
   ],
   "source": [
    "labels_test.value_counts()"
   ]
  },
  {
   "cell_type": "markdown",
   "metadata": {},
   "source": [
    "## Creating and Fitting the data into the Decision Tree Classifier "
   ]
  },
  {
   "cell_type": "code",
   "execution_count": 21,
   "metadata": {},
   "outputs": [
    {
     "output_type": "execute_result",
     "data": {
      "text/plain": "DecisionTreeClassifier(ccp_alpha=0.0, class_weight=None, criterion='gini',\n                       max_depth=None, max_features=None, max_leaf_nodes=None,\n                       min_impurity_decrease=0.0, min_impurity_split=None,\n                       min_samples_leaf=1, min_samples_split=2,\n                       min_weight_fraction_leaf=0.0, presort='deprecated',\n                       random_state=None, splitter='best')"
     },
     "metadata": {},
     "execution_count": 21
    }
   ],
   "source": [
    "from sklearn.tree import DecisionTreeClassifier\n",
    "model = DecisionTreeClassifier()\n",
    "model.fit(data_train,labels_train)"
   ]
  },
  {
   "cell_type": "markdown",
   "metadata": {},
   "source": [
    "#### Prediction Phase"
   ]
  },
  {
   "cell_type": "code",
   "execution_count": 22,
   "metadata": {
    "collapsed": true
   },
   "outputs": [],
   "source": [
    "pred_label = model.predict(data_test)"
   ]
  },
  {
   "cell_type": "markdown",
   "metadata": {},
   "source": [
    "### To check the accuracy we will take help of a confusion matrix that gives us True positives and negatives and False positivies and negatives."
   ]
  },
  {
   "cell_type": "code",
   "execution_count": 25,
   "metadata": {
    "tags": []
   },
   "outputs": [
    {
     "output_type": "stream",
     "name": "stdout",
     "text": "[[178  20]\n [ 46 159]]\nAccuracy:  0.8362282878411911\n"
    }
   ],
   "source": [
    "from sklearn.metrics import confusion_matrix,accuracy_score\n",
    "cm = confusion_matrix(labels_test,pred_label)\n",
    "print(cm)\n",
    "print(\"Accuracy: \", accuracy_score(labels_test,pred_label))"
   ]
  },
  {
   "cell_type": "code",
   "execution_count": null,
   "metadata": {},
   "outputs": [],
   "source": [
    "# demo"
   ]
  }
 ],
 "metadata": {
  "kernelspec": {
   "name": "Python 3.8.3 64-bit",
   "display_name": "Python 3.8.3 64-bit",
   "metadata": {
    "interpreter": {
     "hash": "082e9a3bcad0a290d0001e938aa60b99250c6c2ef33a923c00b70f9826caf4b7"
    }
   }
  },
  "language_info": {
   "codemirror_mode": {
    "name": "ipython",
    "version": 3
   },
   "file_extension": ".py",
   "mimetype": "text/x-python",
   "name": "python",
   "nbconvert_exporter": "python",
   "pygments_lexer": "ipython3",
   "version": "3.8.3-final"
  }
 },
 "nbformat": 4,
 "nbformat_minor": 2
}